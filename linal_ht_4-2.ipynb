{
 "cells": [
  {
   "cell_type": "markdown",
   "metadata": {},
   "source": [
    "__1.__ Решить систему уравнений методом Крамера:\n",
    "\n",
    "   а) $\\begin{cases}\n",
    "x_{1}-2x_{2}=1 \\\\\n",
    "3x_{1}-4x_{2}=7\n",
    "\\end{cases}$"
   ]
  },
  {
   "cell_type": "markdown",
   "metadata": {},
   "source": [
    "$detA=\\begin{vmatrix} 1 & -2 \\\\ 3 & -4 \\end{vmatrix} = 2 \\neq 0$\n",
    "\n",
    "$detA_{1}=\\begin{vmatrix} 1 & -2 \\\\ 7 & -4 \\end{vmatrix} = 10$\n",
    "\n",
    "$detA_{2}=\\begin{vmatrix} 1 & 1 \\\\ 3 & 7 \\end{vmatrix} = 4$\n",
    "\n",
    "$x_{1} = \\frac{detA_{1}}{detA} = \\frac{10}{2}=5$\n",
    "\n",
    "$x_{2} = \\frac{detA_{2}}{detA} = \\frac{4}{2}=2$"
   ]
  },
  {
   "cell_type": "code",
   "execution_count": 1,
   "metadata": {},
   "outputs": [],
   "source": [
    "import numpy as np\n",
    "from scipy import linalg"
   ]
  },
  {
   "cell_type": "code",
   "execution_count": 2,
   "metadata": {},
   "outputs": [],
   "source": [
    "x = np.array([[1, -2], [3, -4]])\n",
    "b = np.array([[1, 7]])\n",
    "\n",
    "A = np.round(np.linalg.det(x))"
   ]
  },
  {
   "cell_type": "code",
   "execution_count": 4,
   "metadata": {},
   "outputs": [],
   "source": [
    "x_1 = x.copy()\n",
    "x_1[:,0] = b\n",
    "\n",
    "A_1 = np.round(np.linalg.det(x_1))"
   ]
  },
  {
   "cell_type": "code",
   "execution_count": 5,
   "metadata": {},
   "outputs": [],
   "source": [
    "x_2 = x.copy()\n",
    "x_2[:,1] = b\n",
    "\n",
    "A_2 = np.round(np.linalg.det(x_2))"
   ]
  },
  {
   "cell_type": "code",
   "execution_count": 6,
   "metadata": {},
   "outputs": [
    {
     "data": {
      "text/plain": [
       "5.0"
      ]
     },
     "execution_count": 6,
     "metadata": {},
     "output_type": "execute_result"
    }
   ],
   "source": [
    "A_1 / A"
   ]
  },
  {
   "cell_type": "code",
   "execution_count": 7,
   "metadata": {},
   "outputs": [
    {
     "data": {
      "text/plain": [
       "2.0"
      ]
     },
     "execution_count": 7,
     "metadata": {},
     "output_type": "execute_result"
    }
   ],
   "source": [
    "A_2 / A"
   ]
  },
  {
   "cell_type": "markdown",
   "metadata": {},
   "source": [
    "б) $\\begin{cases}\n",
    "2x_{1}-x_{2}+5x_{3}=10 \\\\\n",
    "x_{1}+x_{2}-3x_{3}=-2 \\\\\n",
    "2x_{1}+4x_{2}+x_{3}=1\n",
    "\\end{cases}$"
   ]
  },
  {
   "cell_type": "markdown",
   "metadata": {},
   "source": [
    "$detA=\\begin{vmatrix} 2 & -1 & 5 \\\\ 1 & 1 & -3 \\\\ 2 & 4 & 1 \\end{vmatrix} = 43 \\neq 0$\n",
    "\n",
    "$detA_{1}=\\begin{vmatrix} 10 & -1 & 5 \\\\ -2 & 1 & -3 \\\\ 1 & 4 & 1 \\end{vmatrix} = 86$\n",
    "\n",
    "$detA_{2}=\\begin{vmatrix} 2 & 10 & 5 \\\\ 1 & -2 & -3 \\\\ 2 & 1 & 1 \\end{vmatrix} = -43$\n",
    "\n",
    "$detA_{3}=\\begin{vmatrix} 2 & -1 & 10 \\\\ 1 & 1 & -2 \\\\ 2 & 4 & 1 \\end{vmatrix} = 43$\n",
    "\n",
    "$x_{1} = \\frac{detA_{1}}{detA} = \\frac{86}{43}=2$\n",
    "\n",
    "$x_{2} = \\frac{detA_{2}}{detA} = \\frac{-43}{43}=-1$\n",
    "\n",
    "$x_{3} = \\frac{detA_{3}}{detA} = \\frac{43}{43}=1$"
   ]
  },
  {
   "cell_type": "markdown",
   "metadata": {},
   "source": [
    "__2*.__ Найти $L$-матрицу $LU$-разложения для матрицы коэффициентов:\n",
    "\n",
    "   а)$$\\begin{pmatrix}\n",
    "1 & 2 & 4 \\\\ \n",
    "2 & 9 & 12 \\\\ \n",
    "3 & 26 & 30\n",
    "\\end{pmatrix}$$"
   ]
  },
  {
   "cell_type": "markdown",
   "metadata": {},
   "source": [
    "$U = \\begin{pmatrix} 3 & 26 & 30 \\\\ 2 & 9 & 12 \\\\ 1 & 2 & 4 \\\\ \\end{pmatrix}$\n",
    "\n",
    "$L = \\begin{pmatrix} 1 & 0 & 0 \\\\ 0 & 1 & 0 \\\\ 0 & 0 & 1 \\end{pmatrix}$\n",
    "\n",
    "$U = \\begin{pmatrix} 3 & 26 & 30 \\\\ 0 & - \\frac{25}{3} & -8 \\\\ 0 & -\\frac{20}{3} & -6 \\\\ \\end{pmatrix}$\n",
    "\n",
    "$U = \\begin{pmatrix} 3 & 26 & 30 \\\\ 0 & -8 \\frac{1}{3} & -8 \\\\ 0 & 0 & \\frac{2}{5} \\\\ \\end{pmatrix}$\n",
    "\n",
    "$L = \\begin{pmatrix} 1 & 0 & 0 \\\\ \\frac{2}{3} & 1 & 0 \\\\ \\frac{1}{3} & \\frac{4}{5} & 1 \\end{pmatrix}$"
   ]
  },
  {
   "cell_type": "code",
   "execution_count": 10,
   "metadata": {},
   "outputs": [
    {
     "name": "stdout",
     "output_type": "stream",
     "text": [
      "U =\n",
      " [[ 3.         26.         30.        ]\n",
      " [ 0.         -8.33333333 -8.        ]\n",
      " [ 0.          0.          0.4       ]]\n",
      "L =\n",
      " [[1.         0.         0.        ]\n",
      " [0.66666667 1.         0.        ]\n",
      " [0.33333333 0.8        1.        ]]\n"
     ]
    }
   ],
   "source": [
    "A = np.array([[1, 2, 4], [2, 9, 12], [3, 26, 30]])\n",
    "\n",
    "P, L, U = linalg.lu(A)\n",
    "\n",
    "print(f'U =\\n {U}')\n",
    "print(f'L =\\n {L}')"
   ]
  },
  {
   "cell_type": "markdown",
   "metadata": {},
   "source": [
    "б)$$\\begin{pmatrix}\n",
    "1 & 1 & 2 & 4\\\\ \n",
    "2 & 5 & 8 & 9\\\\ \n",
    "3 & 18 & 29 & 18\\\\\n",
    "4 & 22 & 53 & 33\n",
    "\\end{pmatrix}$$"
   ]
  },
  {
   "cell_type": "markdown",
   "metadata": {},
   "source": [
    "$U = \\begin{pmatrix} 4 & 22 & 53 & 33 \\\\ 2 & 5 & 8 & 9 \\\\ 3 & 18 & 29 & 18 \\\\ 1 & 1 & 2 & 4 \\end{pmatrix}$\n",
    "\n",
    "$U = \\begin{pmatrix} 4 & 22 & 53 & 33 \\\\ 0 & -6 & -18 \\frac{1}{2} & -7 \\frac{1}{2} \\\\ 0 & 1 \\frac{1}{2} & -10 \\frac{3}{4} & -6 \\frac{3}{4} \\\\ 0 & -4 \\frac{1}{2} & -11 \\frac{1}{4} & -4 \\frac{1}{4} \\end{pmatrix}$\n",
    "\n",
    "$U = \\begin{pmatrix} 4 & 22 & 53 & 33 \\\\ 0 & -6 & -18 \\frac{1}{2} & -7 \\frac{1}{2} \\\\ 0 & 1 \\frac{1}{2} & -10 \\frac{3}{4} & -6 \\frac{3}{4} \\\\ 0 & -4 \\frac{1}{2} & -11 \\frac{1}{4} & -4 \\frac{1}{4} \\end{pmatrix}$\n",
    "\n",
    "$U = \\begin{pmatrix} 4 & 22 & 53 & 33 \\\\ 0 & -6 & -18 \\frac{1}{2} & -7 \\frac{1}{2} \\\\ 0 & 0 & -15 \\frac{3}{8} & -8 \\frac{5}{8} \\\\ 0 & 0 & 2 \\frac{5}{8} & 1 \\frac{3}{8} \\end{pmatrix}$\n",
    "\n",
    "$U = \\begin{pmatrix} 4 & 22 & 53 & 33 \\\\ 0 & -6 & -18 \\frac{1}{2} & -7 \\frac{1}{2} \\\\ 0 & 0 & -15 \\frac{3}{8} & -8 \\frac{5}{8} \\\\ 0 & 0 & 0 & - \\frac{4}{41} \\end{pmatrix}$\n",
    "\n",
    "$L = \\begin{pmatrix} 1 & 0 & 0 & 0 \\\\ \\frac{1}{2} & 1 & 0 & 0 \\\\ \\frac{3}{4} & -\\frac{1}{4} & 1 & 0 \\\\ \\frac{1}{4} & \\frac{3}{4} & - \\frac{7}{41} & 1 \\end{pmatrix}$"
   ]
  },
  {
   "cell_type": "markdown",
   "metadata": {},
   "source": [
    "__3*.__ Решить систему линейных уравнений методом $LU$-разложения\n",
    "\n",
    "$$\\begin{cases}\n",
    "2x_{1}+x_{2}+3x_{3}=1 \\\\\n",
    "11x_{1}+7x_{2}+5x_{3}=-6 \\\\\n",
    "9x_{1}+8x_{2}+4x_{3}=-5\n",
    "\\end{cases}$$"
   ]
  },
  {
   "cell_type": "markdown",
   "metadata": {},
   "source": [
    "$U = \\begin{pmatrix} 11 & 7 & 5 \\\\ 9 & 8 & 4 \\\\ 2 & 1 & 3 \\end{pmatrix}$\n",
    "\n",
    "$U = \\begin{pmatrix} 11 & 7 & 5 \\\\ 0 & \\frac{25}{11} & - \\frac{1}{11} \\\\ 0 & - \\frac{3}{11} & \\frac{23}{11} \\end{pmatrix}$\n",
    "\n",
    "$U = \\begin{pmatrix} 11 & 7 & 5 \\\\ 0 & \\frac{25}{11} & - \\frac{1}{11} \\\\ 0 & 0 & \\frac{52}{25} \\end{pmatrix}$\n",
    "\n",
    "$L = \\begin{pmatrix} 1 & 0 & 0 \\\\ \\frac{9}{11} & 1 & 0 \\\\ \\frac{2}{11} & - \\frac{3}{25} & 1 \\end{pmatrix} $\n",
    "\n",
    "$\\begin{cases} y_{1} = -6, \\\\ \\frac{9}{11} y_{1} + y_{2} =-5, \\\\ \\frac{2}{11}y_{1} - \\frac{3}{25} y_{2} + y_{3} = 1. \\end{cases}$\n",
    "\n",
    "$y_{1} = -6$ $y_{2} = -\\frac{1}{11}$ $y_{3} = \\frac{52}{25}$\n",
    "\n",
    "$Ux=y:$\n",
    "\n",
    "$\\begin{cases} 11x_{1} + 7x_{2} + 5x_{3} = -6, \\\\ \\frac{25}{11} x_{2} - \\frac{1}{11} x_{3}= - \\frac{1}{11}, \\\\ \\frac{52}{25} x_{3} = \\frac{52}{25} \\end{cases}$\n",
    "\n",
    "$x_{1} = -1$\n",
    "$x_{2} = 0$\n",
    "$x_{3} = 1$\n",
    "\n",
    "$2 \\cdot (-1) + 0 + 3 \\cdot 1 = 1$\n",
    "$11 \\cdot (-1) + 7 \\cdot 0 + 5 \\cdot 1 = -6$\n",
    "$9 \\cdot (-1) + 8 \\cdot 0 + 4 \\cdot 1 = -5$"
   ]
  },
  {
   "cell_type": "code",
   "execution_count": 11,
   "metadata": {},
   "outputs": [
    {
     "name": "stdout",
     "output_type": "stream",
     "text": [
      "U =\n",
      " [[11.          7.          5.        ]\n",
      " [ 0.          2.27272727 -0.09090909]\n",
      " [ 0.          0.          2.08      ]]\n",
      "L =\n",
      " [[ 1.          0.          0.        ]\n",
      " [ 0.81818182  1.          0.        ]\n",
      " [ 0.18181818 -0.12        1.        ]]\n"
     ]
    }
   ],
   "source": [
    "A = np.array([[2, 1, 3], [11, 7, 5], [9, 8, 4]])\n",
    "b = np.array([1, -6, -5])\n",
    "\n",
    "P, L, U = linalg.lu(A)\n",
    "\n",
    "print(f'U =\\n {U}')\n",
    "print(f'L =\\n {L}')"
   ]
  },
  {
   "cell_type": "code",
   "execution_count": 12,
   "metadata": {},
   "outputs": [
    {
     "name": "stdout",
     "output_type": "stream",
     "text": [
      " x_1 = -1.0000000000000002\n",
      " x_2 = 2.4424906541753446e-16\n",
      " x_3 = 1.0\n"
     ]
    }
   ],
   "source": [
    "lu, piv = linalg.lu_factor(A)\n",
    "x = linalg.lu_solve((lu, piv), b)\n",
    "\n",
    "print(f' x_1 = {x[0]}\\n x_2 = {x[1]}\\n x_3 = {x[2]}')"
   ]
  },
  {
   "cell_type": "markdown",
   "metadata": {},
   "source": [
    "__4*.__ Решить систему линейных уравнений методом Холецкого\n",
    "\n",
    "$$\\begin{cases}\n",
    "81x_{1}-45x_{2}+45x_{3}=531 \\\\\n",
    "-45x_{1}+50x_{2}-15x_{3}=-460 \\\\\n",
    "45x_{1}-15x_{2}+38x_{3}=193\n",
    "\\end{cases}$$"
   ]
  },
  {
   "cell_type": "markdown",
   "metadata": {},
   "source": [
    "$\\begin{pmatrix} 81 & -45 & 45 \\\\ -45 & 50 & -15 \\\\ 45 & -15 & 38 \\end{pmatrix}$\n",
    "\n",
    "$l_{11} =\\sqrt{a_{11}} = \\sqrt{81} = 9$\n",
    "$l_{21} =\\frac{a_{21}}{l_{11}} = \\frac{-45}{9} = -5$\n",
    "$l_{31} =\\frac{a_{31}}{l_{11}} = \\frac{45}{9} = 5$\n",
    "\n",
    "$l_{22} = \\sqrt{a_{22}-l_{21}^{2}} = \\sqrt{50 - (-5)^2} = 5$\n",
    "$l_{32} = \\frac{1}{l_{22}}\\left ( a_{32}-l_{21}l_{31} \\right) = \\frac{1}{5}(-15 - (-5) \\cdot 5) = 2$\n",
    "\n",
    "$l_{33} = \\sqrt{a_{33}-l_{32}^{2}-l_{31}^{2}} = \\sqrt{38 - 2^2 - 5^2} = 3$\n",
    "\n",
    "$L = \\begin{pmatrix} 9 & 0 & 0 \\\\ -5 & 5 & 0 \\\\ 5 & 2 & 3 \\end{pmatrix}, \\; \\; L^{T} = \\begin{pmatrix} 9 & -5 & 5 \\\\ 0 & 5 & 2\\\\ 0 & 0 & 3 \\end{pmatrix}.$\n",
    "\n",
    "$Ly=b:$\n",
    "\n",
    "$\\begin{cases} 9 y_1 = 531 \\\\ -5 y_1 + 5 y_2 = -460 \\\\ 5 y_1 + 2 y_2 + 3 y_3 = 193 \\end{cases}$\n",
    "\n",
    "$y_1 = 59$\n",
    "$y_2 = -33$\n",
    "$y_3 = -12$\n",
    "\n",
    "$L^{T}x=y:$\n",
    "\n",
    "$\\begin{cases} 9 x_1 - 5 x_2 + 5 x_3 = 59 \\\\ 5 x_2 + 2 x_3 = -33 \\\\ 3 x_3 = -12 \\end{cases}$\n",
    "\n",
    "$x_1 = 6$\n",
    "$x_2 = -5$\n",
    "$x_3 = -4$\n",
    "\n",
    "$\\begin{cases} 81 \\cdot 6 - 45 \\cdot (-5) + 45 \\cdot (-4) = 531 \\\\ -45 \\cdot 6 + 50 \\cdot (-5) - 15 \\cdot (-4) = -460 \\\\ 45 \\cdot 6 - 15 \\cdot (-5) + 38 \\cdot (-4) = 193 \\end{cases}$"
   ]
  },
  {
   "cell_type": "code",
   "execution_count": 13,
   "metadata": {},
   "outputs": [
    {
     "name": "stdout",
     "output_type": "stream",
     "text": [
      "L=\n",
      "[[ 9.  0.  0.]\n",
      " [-5.  5.  0.]\n",
      " [ 5.  2.  3.]] \n",
      " L.T=\n",
      "[[ 9. -5.  5.]\n",
      " [ 0.  5.  2.]\n",
      " [ 0.  0.  3.]]\n"
     ]
    }
   ],
   "source": [
    "A = np.array([[81, -45, 45], [-45, 50, -15], [45, -15, 38]])\n",
    "L = np.linalg.cholesky(A)\n",
    "print(f'L=\\n{L} \\n L.T=\\n{L.T}')"
   ]
  }
 ],
 "metadata": {
  "kernelspec": {
   "display_name": "Python 3",
   "language": "python",
   "name": "python3"
  },
  "language_info": {
   "codemirror_mode": {
    "name": "ipython",
    "version": 3
   },
   "file_extension": ".py",
   "mimetype": "text/x-python",
   "name": "python",
   "nbconvert_exporter": "python",
   "pygments_lexer": "ipython3",
   "version": "3.8.5"
  }
 },
 "nbformat": 4,
 "nbformat_minor": 4
}
