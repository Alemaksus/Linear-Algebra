{
 "cells": [
  {
   "cell_type": "markdown",
   "metadata": {},
   "source": [
    "__1.__ Найти скалярное произведение векторов $x, y \\in \\mathbb{R}$:<br>\n",
    "а) $x=(0,-3, 6),~y=(-4, 7, 9);$<br>\n",
    "б) $x=(7, -4, 0, 1),~y=(-3, 1, 11, 2).$"
   ]
  },
  {
   "cell_type": "markdown",
   "metadata": {},
   "source": [
    "a) $(x, y) = 0 \\cdot (-4) + (-3) \\cdot 7 + 6 \\cdot 9 = 33$;\n",
    "\n",
    "б) $(x, y) = 7 \\cdot (-3) +(-4) \\cdot 1 + 0 \\cdot 11 + 1 \\cdot\\ 2 = -23$."
   ]
  },
  {
   "cell_type": "code",
   "execution_count": 4,
   "metadata": {},
   "outputs": [],
   "source": [
    "import numpy as np\n",
    "from numpy.linalg import norm\n",
    "import matplotlib.pyplot as plt"
   ]
  },
  {
   "cell_type": "code",
   "execution_count": 5,
   "metadata": {},
   "outputs": [],
   "source": [
    "x = np.array([0, -3, 6])\n",
    "y = np.array([-4, 7, 9])"
   ]
  },
  {
   "cell_type": "code",
   "execution_count": 6,
   "metadata": {},
   "outputs": [
    {
     "name": "stdout",
     "output_type": "stream",
     "text": [
      "(x, y)=\t33\n"
     ]
    }
   ],
   "source": [
    "print(f'(x, y)=\\t{x.dot(y)}')"
   ]
  },
  {
   "cell_type": "code",
   "execution_count": 7,
   "metadata": {},
   "outputs": [],
   "source": [
    "x = np.array([7, -4, 0, 1])\n",
    "y = np.array([-3, 1, 11, 2])"
   ]
  },
  {
   "cell_type": "code",
   "execution_count": 8,
   "metadata": {},
   "outputs": [
    {
     "name": "stdout",
     "output_type": "stream",
     "text": [
      "(x, y)=\t-23\n"
     ]
    }
   ],
   "source": [
    "print(f'(x, y)=\\t{x.dot(y)}')"
   ]
  },
  {
   "cell_type": "markdown",
   "metadata": {},
   "source": [
    "__2.__ Найти нормы векторов $(4, 2, 4)$ и $(12, 3, 4)$ и угол между ними."
   ]
  },
  {
   "cell_type": "code",
   "execution_count": 12,
   "metadata": {},
   "outputs": [],
   "source": [
    "a = np.array([4 , 2, 4])\n",
    "b = np.array([12, 3, 4])"
   ]
  },
  {
   "cell_type": "code",
   "execution_count": 13,
   "metadata": {},
   "outputs": [
    {
     "name": "stdout",
     "output_type": "stream",
     "text": [
      "l1 норма вектора a:\t10.0\n",
      "l1 норма вектора a:\t19.0\n"
     ]
    }
   ],
   "source": [
    "print(f'l1 норма вектора a:\\t{norm(a, ord=1)}')\n",
    "print(f'l1 норма вектора a:\\t{norm(b, ord=1)}')"
   ]
  },
  {
   "cell_type": "code",
   "execution_count": 15,
   "metadata": {},
   "outputs": [
    {
     "name": "stdout",
     "output_type": "stream",
     "text": [
      "l2 норма вектора a:\t6.0\n",
      "l2 норма вектора a:\t13.0\n"
     ]
    }
   ],
   "source": [
    "print(f'l2 норма вектора a:\\t{norm(a, ord=2)}')\n",
    "print(f'l2 норма вектора a:\\t{norm(b, ord=2)}')"
   ]
  },
  {
   "cell_type": "code",
   "execution_count": 16,
   "metadata": {},
   "outputs": [
    {
     "name": "stdout",
     "output_type": "stream",
     "text": [
      "Косинус угла между а и b: 0.90\n",
      "Угол между а и b: 0.46\n"
     ]
    }
   ],
   "source": [
    "cos_phi = np.dot(a,b) / norm(a) / norm(b)\n",
    "print(f'Косинус угла между а и b: {cos_phi:.2f}')\n",
    "print(f'Угол между а и b: {np.arccos(cos_phi):.2f}')"
   ]
  },
  {
   "cell_type": "markdown",
   "metadata": {},
   "source": [
    "__3.__ Будет ли линейное пространство евклидовым, если за скалярное произведение принять:<br>\n",
    "а) произведение длин векторов;<br>\n",
    "б) утроенное обычное скалярное произведение векторов?<br>"
   ]
  },
  {
   "cell_type": "markdown",
   "metadata": {},
   "source": [
    "а) Нет, т.к. не выполняется 3-я аксиома для Евклидова пространства. То есть в нашем случае:\n",
    "\n",
    "$(x_{1}+x_{2},y) \\neq (x_{1},y)+(x_{2},y);$\n",
    "\n",
    "Она выполнится только если х1 и х2 будут коллинеарны. Если же они не коллинеарны, то норма от х1 + х2 будет меньше, чем нормы от этих векторов по отдельности.\n",
    "\n",
    "б) Да, т.к.выполнятся все аксиомы для Евклидова пространства. "
   ]
  },
  {
   "cell_type": "markdown",
   "metadata": {},
   "source": [
    "__4.__ Какие из нижеперечисленных векторов образуют ортонормированный базис в линейном пространстве $\\mathbb{R}^{3}$:<br>\n",
    "а) $(1,0,0),(0,0,1);$ <br>\n",
    "б) $(1/\\sqrt{2},-1/\\sqrt{2},0),(1/\\sqrt{2},1/\\sqrt{2},0), (0,0,1);$<br>\n",
    "в) $(1/2, -1/2, 0), (0, 1/2, 1/2), (0,0,1);$<br>\n",
    "г) $(1,0,0),(0,1,0),(0,0,1)?$ "
   ]
  },
  {
   "cell_type": "markdown",
   "metadata": {},
   "source": [
    "В случае, если скалярное произведение векторов = 0 и = 1, при совпадающем индексе, то вектора образуют ортонормированный базис.\n",
    "\n",
    "а) $1 \\cdot 0 + 0 \\cdot 0 + 0 \\cdot 1 = 0$\n",
    "$|x_1| = 1$\n",
    "$|x_2| = 1$\n",
    "Вектора $(1,0,0), (0,0,1)$ - образуют ортонормированный базис в $\\mathbb{R}^{3}$, но не являются  базисом в $\\mathbb{R}^{3}$\n",
    "\n",
    "б) $\\frac{1}{\\sqrt{2}} \\cdot \\frac{1}{\\sqrt{2}} + \\left(-\\frac{1}{\\sqrt{2}}\\right) \\cdot \\frac{1}{\\sqrt{2}} + 0 \\cdot 0 = 0$\n",
    "\n",
    "$|x_1| = \\sqrt{\\frac{1}{\\sqrt{2}}^2 + \\left(-\\frac{1}{\\sqrt{2}}\\right)^2 + 0^2} = 1$\n",
    "$|x_2| = \\sqrt{\\frac{1}{\\sqrt{2}}^2 + \\frac{1}{\\sqrt{2}}^2 + 0^2} = 1$\n",
    "$|x_3| = 1$\n",
    "\n",
    "Вектора $\\left(\\frac{1}{\\sqrt{2}},-\\frac{1}{\\sqrt{2}},0\\right),\\left(\\frac{1}{\\sqrt{2}},\\frac{1}{\\sqrt{2}},0\\right), (0,0,1)$ - образуют ортонормированный базис\n",
    "\n",
    "в) $\\frac{1}{2} \\cdot \\frac{1}{2} + \\left(-\\frac{1}{2} \\cdot -\\frac{1}{2}\\right) + 0 \\cdot 0 = 0.5$\n",
    "Вектора $\\left(\\frac{1}{2}, -\\frac{1}{2}, 0\\right), \\left(0, \\frac{1}{2}, \\frac{1}{2}\\right), (0,0,1)$ - не образуют ортонормированный базис\n",
    "\n",
    "г) Вектора $(1,0,0),(0,1,0),(0,0,1)$ - образуют ортонормированный базис"
   ]
  }
 ],
 "metadata": {
  "kernelspec": {
   "display_name": "Python 3",
   "language": "python",
   "name": "python3"
  },
  "language_info": {
   "codemirror_mode": {
    "name": "ipython",
    "version": 3
   },
   "file_extension": ".py",
   "mimetype": "text/x-python",
   "name": "python",
   "nbconvert_exporter": "python",
   "pygments_lexer": "ipython3",
   "version": "3.8.5"
  }
 },
 "nbformat": 4,
 "nbformat_minor": 4
}
