{
 "cells": [
  {
   "cell_type": "markdown",
   "metadata": {},
   "source": [
    "__1.__ Установить, какие произведения матриц $AB$ и $BA$ определены, и найти размерности полученных матриц:\n",
    "\n",
    "   а) $A$ — матрица $4\\times 2$, $B$ — матрица $4\\times 2$;\n",
    "    \n",
    "   б) $A$ — матрица $2\\times 5$, $B$ — матрица $5\\times 3$;\n",
    "    \n",
    "   в) $A$ — матрица $8\\times 3$, $B$ — матрица $3\\times 8$;\n",
    "    \n",
    "   г) $A$ — квадратная матрица $4\\times 4$, $B$ — квадратная матрица $4\\times 4$."
   ]
  },
  {
   "cell_type": "markdown",
   "metadata": {},
   "source": [
    "а) $AB$, $BA$ - произведения матриц не определены;\n",
    "\n",
    "б) $AB$ - матрица $2\\times 3$\n",
    "\n",
    "$BA$ - произведение матриц не определено;\n",
    "\n",
    "в) $AB$ - матрица $8\\times 8$\n",
    "\n",
    "$BA$ - матрица $3\\times 3$;\n",
    "\n",
    "г) $AB$ - матрица $4\\times 4$\n",
    "\n",
    "$BA$ - матрица $4\\times 4$"
   ]
  },
  {
   "cell_type": "markdown",
   "metadata": {},
   "source": [
    "__2.__ Найти сумму и произведение матриц $A=\\begin{pmatrix}\n",
    "1 & -2\\\\ \n",
    "3 & 0\n",
    "\\end{pmatrix}$ и $B=\\begin{pmatrix}\n",
    "4 & -1\\\\ \n",
    "0 & 5\n",
    "\\end{pmatrix}.$"
   ]
  },
  {
   "cell_type": "code",
   "execution_count": 1,
   "metadata": {},
   "outputs": [],
   "source": [
    "import numpy as np\n",
    "\n",
    "a = np.array([[1, -2], [3, 0]])\n",
    "b = np.array([[4, -1], [0, 5]])"
   ]
  },
  {
   "cell_type": "markdown",
   "metadata": {},
   "source": [
    "$A + B = \n",
    "\\begin{pmatrix}\n",
    "1 & -2\\\\ \n",
    "3 & 0\n",
    "\\end{pmatrix} + \\begin{pmatrix}\n",
    "4 & -1\\\\ \n",
    "0 & 5\n",
    "\\end{pmatrix} = \\begin{pmatrix}\n",
    "1 + 4 & -2 + (-1) \\\\\n",
    "3 + 0 & 0 + 5\n",
    "\\end{pmatrix} = \\begin{pmatrix}\n",
    "5 & -3 \\\\\n",
    "3 & 5\n",
    "\\end{pmatrix}$"
   ]
  },
  {
   "cell_type": "code",
   "execution_count": 2,
   "metadata": {
    "scrolled": true
   },
   "outputs": [
    {
     "name": "stdout",
     "output_type": "stream",
     "text": [
      "A + B = \n",
      "[[ 5 -3]\n",
      " [ 3  5]]\n"
     ]
    }
   ],
   "source": [
    "print(f'A + B = \\n{a + b}')"
   ]
  },
  {
   "cell_type": "markdown",
   "metadata": {},
   "source": [
    "$A \\times B = \n",
    "\\begin{pmatrix}\n",
    "1 & -2\\\\ \n",
    "3 & 0\n",
    "\\end{pmatrix} \\times \\begin{pmatrix}\n",
    "4 & -1\\\\ \n",
    "0 & 5\n",
    "\\end{pmatrix} = \\begin{pmatrix}\n",
    "1 \\cdot 4 + (-2) \\cdot 0 & 1 \\cdot (-1) + (-2) \\cdot 5 \\\\\n",
    "3 \\cdot (4) + 0 \\cdot 0 & 3 \\cdot (-1) + 0 \\cdot 5\n",
    "\\end{pmatrix} = \\begin{pmatrix}\n",
    "4 & -11 \\\\\n",
    "12 & -3\n",
    "\\end{pmatrix}$"
   ]
  },
  {
   "cell_type": "code",
   "execution_count": 3,
   "metadata": {},
   "outputs": [
    {
     "name": "stdout",
     "output_type": "stream",
     "text": [
      "A x B = \n",
      "[[  4 -11]\n",
      " [ 12  -3]]\n"
     ]
    }
   ],
   "source": [
    "print(f'A x B = \\n{np.dot(a, b)}')"
   ]
  },
  {
   "cell_type": "markdown",
   "metadata": {},
   "source": [
    "### $$BA\n",
    "= \n",
    "\\begin{pmatrix}\n",
    "4 & -1\\\\ \n",
    "0 & 5\n",
    "\\end{pmatrix}\n",
    "\\cdot  \n",
    "\\begin{pmatrix}\n",
    "1 & -2\\\\ \n",
    "3 & 0\n",
    "\\end{pmatrix}\n",
    "=$$\n",
    "### $$=\n",
    "\\begin{pmatrix}\n",
    "4\\cdot 1 + -1\\cdot 3 & 4\\cdot (-2) + -1\\cdot 0 \\\\ \n",
    "0\\cdot 1 + 5\\cdot 3 & 0\\cdot (-2) + 5\\cdot 0\n",
    "\\end{pmatrix}\n",
    "= \n",
    "\\begin{pmatrix}\n",
    "1 & -8\\\\ \n",
    "15 & 0\n",
    "\\end{pmatrix}$$"
   ]
  },
  {
   "cell_type": "code",
   "execution_count": 5,
   "metadata": {},
   "outputs": [
    {
     "name": "stdout",
     "output_type": "stream",
     "text": [
      "Матрица BА\n",
      "[[ 1 -8]\n",
      " [15  0]]\n"
     ]
    }
   ],
   "source": [
    "print(f'Матрица BА\\n{np.dot(b, a)}')"
   ]
  },
  {
   "cell_type": "markdown",
   "metadata": {},
   "source": [
    "__3.__ Из закономерностей сложения и умножения матриц на число можно сделать вывод, что матрицы одного размера образуют линейное пространство. Вычислить линейную комбинацию $3A-2B+4C$ для матриц $A=\\begin{pmatrix}\n",
    "1 & 7\\\\ \n",
    "3 & -6\n",
    "\\end{pmatrix}$, $B=\\begin{pmatrix}\n",
    "0 & 5\\\\ \n",
    "2 & -1\n",
    "\\end{pmatrix}$, $C=\\begin{pmatrix}\n",
    "2 & -4\\\\ \n",
    "1 & 1\n",
    "\\end{pmatrix}.$"
   ]
  },
  {
   "cell_type": "markdown",
   "metadata": {},
   "source": [
    "$3A-2B+4C = 3 \\times \\begin{pmatrix}\n",
    "1 & 7\\\\ \n",
    "3 & -6\n",
    "\\end{pmatrix} - 2 \\times \\begin{pmatrix}\n",
    "0 & 5\\\\ \n",
    "2 & -1 \n",
    "\\end{pmatrix} + 4 \\times \\begin{pmatrix}\n",
    "2 & -4\\\\ \n",
    "1 & 1\n",
    "\\end{pmatrix} = \\begin{pmatrix} \n",
    "3 \\cdot 1 - 2 \\cdot 0 + 4 \\cdot 2 & 3 \\cdot 7 - 2 \\cdot 5 + 4 \\cdot (-4) \\\\\n",
    "3 \\cdot 3 - 2 \\cdot 2 + 4 \\cdot 1 & 3 \\cdot (-6) - 2 \\cdot (-1) + 4 \\cdot 1\n",
    "\\end{pmatrix} = \\begin{pmatrix} \n",
    "11 & -5 \\\\\n",
    "9 & -12\n",
    "\\end{pmatrix}$"
   ]
  },
  {
   "cell_type": "code",
   "execution_count": 5,
   "metadata": {},
   "outputs": [
    {
     "name": "stdout",
     "output_type": "stream",
     "text": [
      "3A - 2B + 4C =\n",
      " [[ 11  -5]\n",
      " [  9 -12]]\n"
     ]
    }
   ],
   "source": [
    "a = np.array([[1, 7], [3, -6]])\n",
    "b = np.array([[0, 5], [2, -1]])\n",
    "c = np.array([[2, -4], [1, 1]])\n",
    "\n",
    "print(f'3A - 2B + 4C =\\n {(3*a) + (-2*b) + (4*c)}')"
   ]
  },
  {
   "cell_type": "markdown",
   "metadata": {},
   "source": [
    "__4.__ Дана матрица $A=\\begin{pmatrix}\n",
    "4 & 1\\\\ \n",
    "5 & -2\\\\ \n",
    "2 & 3\n",
    "\\end{pmatrix}$.\n",
    "Вычислить $AA^{T}$ и $A^{T}A$."
   ]
  },
  {
   "cell_type": "markdown",
   "metadata": {},
   "source": [
    "$A^{T}=\\begin{pmatrix}\n",
    "4 & 5 & 2\\\\\n",
    "1 & -2 & 3\n",
    "\\end{pmatrix}$"
   ]
  },
  {
   "cell_type": "markdown",
   "metadata": {},
   "source": [
    "$A \\times A^{T}=\\begin{pmatrix}\n",
    "4 & 1\\\\ \n",
    "5 & -2\\\\ \n",
    "2 & 3\n",
    "\\end{pmatrix} \\times \\begin{pmatrix}\n",
    "4 & 5 & 2 \\\\\n",
    "1 & -2 & 3\n",
    "\\end{pmatrix} = \\begin{pmatrix} \n",
    "4 \\cdot 4 + 1 \\cdot 1 & 4 \\cdot 5 + 1 \\cdot (-2) & 4 \\cdot 2 + 1 \\cdot 3\\\\\n",
    "5 \\cdot 4 + (-2) \\cdot 1 & 5 \\cdot 5 + (-2) \\cdot (-2) &  5 \\cdot 2 + (-2) \\cdot 3 \\\\\n",
    "2 \\cdot 4 + 3 \\cdot 1 & 2 \\cdot 5 + 3 \\cdot (-2) & 2 \\cdot 2 + 3 \\cdot 3\n",
    "\\end{pmatrix} = \\begin{pmatrix} \n",
    "17 & 18 & 11 \\\\\n",
    "18 & 29 & 4 \\\\\n",
    "11 & 4 & 13\n",
    "\\end{pmatrix}$"
   ]
  },
  {
   "cell_type": "code",
   "execution_count": 7,
   "metadata": {},
   "outputs": [
    {
     "name": "stdout",
     "output_type": "stream",
     "text": [
      "A x A^T = \n",
      " [[17 18 11]\n",
      " [18 29  4]\n",
      " [11  4 13]]\n"
     ]
    }
   ],
   "source": [
    "a = np.array([[4, 1], [5, -2], [2, 3]])\n",
    "\n",
    "print(f'A x A^T = \\n {np.dot(a, a.T)}')"
   ]
  },
  {
   "cell_type": "code",
   "execution_count": 8,
   "metadata": {},
   "outputs": [
    {
     "name": "stdout",
     "output_type": "stream",
     "text": [
      "A^T x A = \n",
      " [[45  0]\n",
      " [ 0 14]]\n"
     ]
    }
   ],
   "source": [
    "print(f'A^T x A = \\n {np.dot(a.T, a)}')"
   ]
  },
  {
   "cell_type": "markdown",
   "metadata": {},
   "source": [
    "__5*.__ Написать на Python функцию для перемножения двух произвольных матриц, не используя NumPy."
   ]
  },
  {
   "cell_type": "code",
   "execution_count": 25,
   "metadata": {},
   "outputs": [
    {
     "name": "stdout",
     "output_type": "stream",
     "text": [
      "[[126, 150, 84, 101, 92, 113, 76, 113, 120, 93], [48, 104, 92, 82, 52, 60, 18, 82, 100, 16], [80, 162, 152, 152, 113, 129, 29, 112, 130, 64], [132, 185, 141, 154, 136, 140, 67, 135, 167, 92], [65, 98, 100, 111, 104, 102, 39, 50, 102, 62], [94, 111, 39, 49, 35, 70, 56, 96, 63, 67], [74, 98, 58, 58, 42, 70, 62, 66, 102, 44], [161, 222, 138, 145, 109, 163, 112, 158, 194, 110], [151, 172, 78, 95, 80, 133, 114, 122, 140, 113], [77, 73, 25, 36, 40, 49, 54, 58, 69, 49]]\n"
     ]
    }
   ],
   "source": [
    "def my_matrix(a, b):\n",
    "    if len(a[0]) == len(b) and len(a) == len(b[0]):\n",
    "        c = [[0 for _ in range(len(a))] for _ in range(len(b[0]))]\n",
    "        for m in range(len(a)):\n",
    "            for n in range(len(a[0])):\n",
    "                for k in range(len(b[0])):\n",
    "                    c[m][k] = a[m][n] * b[n][k] + c[m][k]\n",
    "    return c\n",
    "\n",
    "print(my_matrix(a, b))"
   ]
  },
  {
   "cell_type": "code",
   "execution_count": 14,
   "metadata": {},
   "outputs": [],
   "source": [
    "a = np.array([[4, 3, 8, 5, 4], [8, 2, 0, 4, 2], [9, 1, 2, 5, 9], [7, 3, 6, 8, 7], [2, 3, 1, 4, 9], [4, 1, 8, 2, 0], [4, 6, 2, 2, 2], [9, 8, 7, 5, 6], [4, 7, 9, 3, 4], [1, 3, 5, 3, 0]])\n",
    "b = np.array([[2, 9, 7, 5, 0, 4, 0, 8, 5, 0], [6, 5, 1, 1, 1, 4, 8, 2, 9, 3], [9, 8, 0, 2, 2, 6, 6, 7, 2, 8], [4, 3, 5, 6, 9, 1, 0, 3, 9, 0], [2, 5, 7, 8, 7, 8, 1, 1, 3, 5]])"
   ]
  },
  {
   "cell_type": "code",
   "execution_count": 20,
   "metadata": {},
   "outputs": [
    {
     "data": {
      "text/plain": [
       "(10, 5)"
      ]
     },
     "execution_count": 20,
     "metadata": {},
     "output_type": "execute_result"
    }
   ],
   "source": [
    "a.shape"
   ]
  },
  {
   "cell_type": "code",
   "execution_count": 21,
   "metadata": {},
   "outputs": [
    {
     "data": {
      "text/plain": [
       "(5, 10)"
      ]
     },
     "execution_count": 21,
     "metadata": {},
     "output_type": "execute_result"
    }
   ],
   "source": [
    "b.shape"
   ]
  },
  {
   "cell_type": "code",
   "execution_count": 26,
   "metadata": {},
   "outputs": [
    {
     "data": {
      "text/plain": [
       "array([[126, 150,  84, 101,  92, 113,  76, 113, 120,  93],\n",
       "       [ 48, 104,  92,  82,  52,  60,  18,  82, 100,  16],\n",
       "       [ 80, 162, 152, 152, 113, 129,  29, 112, 130,  64],\n",
       "       [132, 185, 141, 154, 136, 140,  67, 135, 167,  92],\n",
       "       [ 65,  98, 100, 111, 104, 102,  39,  50, 102,  62],\n",
       "       [ 94, 111,  39,  49,  35,  70,  56,  96,  63,  67],\n",
       "       [ 74,  98,  58,  58,  42,  70,  62,  66, 102,  44],\n",
       "       [161, 222, 138, 145, 109, 163, 112, 158, 194, 110],\n",
       "       [151, 172,  78,  95,  80, 133, 114, 122, 140, 113],\n",
       "       [ 77,  73,  25,  36,  40,  49,  54,  58,  69,  49]])"
      ]
     },
     "execution_count": 26,
     "metadata": {},
     "output_type": "execute_result"
    }
   ],
   "source": [
    "np.dot(a, b)"
   ]
  },
  {
   "cell_type": "code",
   "execution_count": 27,
   "metadata": {},
   "outputs": [
    {
     "name": "stdout",
     "output_type": "stream",
     "text": [
      "387 µs ± 14.1 µs per loop (mean ± std. dev. of 7 runs, 1000 loops each)\n"
     ]
    }
   ],
   "source": [
    "%%timeit\n",
    "my_matrix(a, b)"
   ]
  }
 ],
 "metadata": {
  "kernelspec": {
   "display_name": "Python 3",
   "language": "python",
   "name": "python3"
  },
  "language_info": {
   "codemirror_mode": {
    "name": "ipython",
    "version": 3
   },
   "file_extension": ".py",
   "mimetype": "text/x-python",
   "name": "python",
   "nbconvert_exporter": "python",
   "pygments_lexer": "ipython3",
   "version": "3.8.5"
  }
 },
 "nbformat": 4,
 "nbformat_minor": 4
}
