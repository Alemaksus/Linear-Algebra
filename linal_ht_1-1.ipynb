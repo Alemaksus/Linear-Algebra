{
 "cells": [
  {
   "cell_type": "markdown",
   "metadata": {},
   "source": [
    "__1.__ Исследовать на линейную зависимость:\n",
    "\n",
    "$$f_{1}(x)=e^{x}, f_{2}(x)=1, f_{3}(x)=x+1, f_{4}(x)=x-e^{x}.$$"
   ]
  },
  {
   "cell_type": "markdown",
   "metadata": {},
   "source": [
    "$\\alpha_{1}(e^{x}) + \\alpha_{2}(1) + \\alpha_{3}(x + 1) + \\alpha_{4}(x - e^{x})= 0$\n",
    "\n",
    "$f_{4} = f_{3} - f_{2} - f_{1}$ - линейно зависимы."
   ]
  },
  {
   "cell_type": "markdown",
   "metadata": {},
   "source": [
    "__2.__ Исследовать на линейную зависимость:\n",
    "$$f_{1}(x)=2, f_{2}(x)=x, f_{3}(x)=x^{2}, f_{4}(x)=(x+1)^{2}$$"
   ]
  },
  {
   "cell_type": "markdown",
   "metadata": {},
   "source": [
    "$f_{4} = x^2 + 2x + 1$\n",
    "\n",
    "$f_{4} = f_{3} + 2 \\cdot f_{2} + \\frac{1}{2} \\cdot f_{1}$ - линейно зависимы."
   ]
  },
  {
   "cell_type": "markdown",
   "metadata": {},
   "source": [
    "__3.__ Найти координаты вектора $x = (2, 3, 5)\\in \\mathbb{R}^{3}$ в базисе $b_{1}=(0, 0, 10)$, $b_{2}=(2, 0, 0)$, $b_{3}=(0, 1, 0)$."
   ]
  },
  {
   "cell_type": "markdown",
   "metadata": {},
   "source": [
    "$x = \\alpha_{1}b_1 + \\alpha_{2}b_2 + \\alpha_{3}b_3$\n",
    "$(2, 3, 5) = (0\\alpha_1 + 2\\alpha_2 + 0\\alpha_3, 0\\alpha_1 + 0\\alpha_2 + 1\\alpha_3, 10\\alpha_1 + 0\\alpha_2 + 0\\alpha_3)$"
   ]
  },
  {
   "cell_type": "markdown",
   "metadata": {},
   "source": [
    "$\\begin{cases}\n",
    "    0\\alpha_1 + 2\\alpha_2 + 0\\alpha_3 = 2 \\\\\n",
    "    0\\alpha_1 + 0\\alpha_2 + 1\\alpha_3 = 3 \\\\\n",
    "    10\\alpha_1 + 0\\alpha_2 + 0\\alpha_3) = 5\n",
    "\\end{cases}$"
   ]
  },
  {
   "cell_type": "markdown",
   "metadata": {},
   "source": [
    "$\\begin{cases}\n",
    "    \\alpha_1 = \\frac{1}{2} \\\\\n",
    "    \\alpha_2 = 1 \\\\\n",
    "    \\alpha_3 = 3\n",
    "\\end{cases}$"
   ]
  },
  {
   "cell_type": "markdown",
   "metadata": {},
   "source": [
    "Координаты вектора: $x = \\left(\\frac{1}{2} , 1, 3 \\right)\\in \\mathbb{R}^{3}$ в базисе $b_{1}=(0, 0, 10)$, $b_{2}=(2, 0, 0)$, $b_{3}=(0, 1, 0)$"
   ]
  },
  {
   "cell_type": "markdown",
   "metadata": {},
   "source": [
    "__4.__ Найти координаты вектора $3x^{2}-2x+2\\in\\mathbb{R}^{3}[x]$:\n",
    "\n",
    "а) в базисе $1$, $x$, $x^{2}$;\n",
    "\n",
    "б) в базисе $x^{2}$, $x-1$, $1$."
   ]
  },
  {
   "cell_type": "markdown",
   "metadata": {},
   "source": [
    "a) $(2, -2, 3)$;\n",
    "\n",
    "б) $(3, -2, 0 )$."
   ]
  },
  {
   "cell_type": "markdown",
   "metadata": {},
   "source": [
    "__5.__ Установить, является ли линейным подпространством:\n",
    "\n",
    "а) совокупность всех векторов трехмерного пространства, у которых по крайней мере одна из первых двух координат равна нулю;\n",
    "    \n",
    "б) все векторы, являющиеся линейными комбинациями данных векторов $\\{u_{1}, u_{2}, \\ldots, u_{n}\\}$."
   ]
  },
  {
   "cell_type": "markdown",
   "metadata": {},
   "source": [
    "a) $(a, 0, b) + (0, c, d) = (a, c, b + d)$ неoбразуют линейного пространства."
   ]
  },
  {
   "cell_type": "markdown",
   "metadata": {},
   "source": [
    "б) Cовокупность всех линейных комбинаций векторов $\\{u_{1}, u_{2}, \\dots , u_{n}\\}$ oбразует некоторое подпространство исходного линейного пространства."
   ]
  }
 ],
 "metadata": {
  "kernelspec": {
   "display_name": "Python 3",
   "language": "python",
   "name": "python3"
  },
  "language_info": {
   "codemirror_mode": {
    "name": "ipython",
    "version": 3
   },
   "file_extension": ".py",
   "mimetype": "text/x-python",
   "name": "python",
   "nbconvert_exporter": "python",
   "pygments_lexer": "ipython3",
   "version": "3.8.5"
  }
 },
 "nbformat": 4,
 "nbformat_minor": 4
}
