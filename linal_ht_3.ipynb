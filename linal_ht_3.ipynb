{
 "cells": [
  {
   "cell_type": "markdown",
   "metadata": {},
   "source": [
    "1. Найти собственные векторы и собственные значения для линейного оператора, заданного матрицей\n",
    "\n",
    "$$A=\\begin{pmatrix}\n",
    "-1 & -6\\\\ \n",
    "2 & 6\n",
    "\\end{pmatrix}.$$\n"
   ]
  },
  {
   "cell_type": "markdown",
   "metadata": {},
   "source": [
    "Решение:\n",
    "\n",
    "$$\\begin{vmatrix} -1-\\lambda & -6\\\\ 2 & 6-\\lambda \\end{vmatrix} = 0$$$$(-1-\\lambda)(6-\\lambda) - (-6)\\cdot 2 = 0$$$$\\lambda^2 - 5\\lambda + 6 = 0$$$$\\begin{cases} \\lambda_1 = 2 \\\\ \\lambda_2 = 3 \\end{cases}$$$$\\begin{pmatrix} -1 & -6\\\\ 2 & 6 \\end{pmatrix} \\begin{pmatrix} x_{1}\\\\ x_{2} \\end{pmatrix}= \\lambda \\begin{pmatrix} x_{1}\\\\ x_{2} \\end{pmatrix} $$$$\\begin{cases} -x_1 -6x_2 = 2x_1 \\\\ 2x_1 + 6x_2 = 2x_2 \\end{cases}$$$$x_1 = -2x_2$$$$x = \\begin{pmatrix} 2\\\\ -1 \\end{pmatrix}$$$$\\begin{cases} -x_1 -6x_2 = 3x_1 \\\\ 2x_1 + 6x_2 = 3x_2 \\end{cases}$$$$x_1 = -\\frac{3}{2}x_2$$$$x = \\begin{pmatrix} 3\\\\ -2 \\end{pmatrix}$$"
   ]
  },
  {
   "cell_type": "code",
   "execution_count": 1,
   "metadata": {},
   "outputs": [],
   "source": [
    "import numpy as np"
   ]
  },
  {
   "cell_type": "code",
   "execution_count": 2,
   "metadata": {},
   "outputs": [
    {
     "name": "stdout",
     "output_type": "stream",
     "text": [
      "Матрица A:\n",
      "[[-1 -6]\n",
      " [ 2  6]]\n",
      "Собственные значения:\n",
      "[2. 3.]\n",
      "Собственные векторы:\n",
      "[[-0.89442719  0.83205029]\n",
      " [ 0.4472136  -0.5547002 ]]\n"
     ]
    }
   ],
   "source": [
    "a = np.array([[-1, -6], [2, 6]])\n",
    "w, v = np.linalg.eig(a)\n",
    "\n",
    "print(f'Матрица A:\\n{a}')\n",
    "print(f'Собственные значения:\\n{w}')\n",
    "print(f'Собственные векторы:\\n{v}')"
   ]
  },
  {
   "cell_type": "markdown",
   "metadata": {},
   "source": [
    "__2.__ Дан оператор поворота на 180 градусов, задаваемый матрицей \n",
    "\n",
    "$$A=\\begin{pmatrix}\n",
    "-1 & 0\\\\ \n",
    "0 & -1\n",
    "\\end{pmatrix}.$$\n",
    "\n",
    "Показать, что __любой__ вектор является для него собственным."
   ]
  },
  {
   "cell_type": "markdown",
   "metadata": {},
   "source": [
    "Решение:\n",
    "\n",
    "$$\\begin{vmatrix} -1-\\lambda & -0\\\\ 0 & -1-\\lambda \\end{vmatrix} = 0$$$$(-1-\\lambda)(-1-\\lambda) - 0 \\cdot 0 = 0$$$$(-1 - \\lambda)^2 = 0$$$$\\begin{cases} \\lambda_1 = -1 \\\\ \\lambda_2 = -1 \\end{cases}$$$$\\begin{pmatrix} -1 & 0\\\\ 0 & -1 \\end{pmatrix} \\begin{pmatrix} x_{1}\\\\ x_{2} \\end{pmatrix}= \\lambda \\begin{pmatrix} x_{1}\\\\ x_{2} \\end{pmatrix} $$$$\\begin{cases} -x_1 + 0 \\cdot x_2 = -x_1 \\\\ 0 \\cdot x_1 + (-x_2) = -x_2 \\end{cases}$$$$\\begin{cases} x_1 - x_1 = 0 \\\\ x_2 - x_2 = 0 \\end{cases}$$$$\\begin{cases} 0 = 0 \\\\ 0 = 0 \\\\ \\end{cases}$$"
   ]
  },
  {
   "cell_type": "code",
   "execution_count": 3,
   "metadata": {},
   "outputs": [
    {
     "name": "stdout",
     "output_type": "stream",
     "text": [
      "Матрица A:\n",
      "[[-1  0]\n",
      " [ 0 -1]]\n",
      "Собственные значения:\n",
      "[-1. -1.]\n",
      "Собственные векторы:\n",
      "[[1. 0.]\n",
      " [0. 1.]]\n"
     ]
    }
   ],
   "source": [
    "a = np.array([[-1, 0], [0, -1]])\n",
    "w, v = np.linalg.eig(a)\n",
    "\n",
    "print(f'Матрица A:\\n{a}')\n",
    "print(f'Собственные значения:\\n{w}')\n",
    "print(f'Собственные векторы:\\n{v}')"
   ]
  },
  {
   "cell_type": "markdown",
   "metadata": {},
   "source": [
    "__3.__ Пусть линейный оператор задан матрицей\n",
    "\n",
    "$$A=\\begin{pmatrix}\n",
    "1 & 1\\\\ \n",
    "-1 & 3\n",
    "\\end{pmatrix}.$$\n",
    "\n",
    "Установить, является ли вектор $x=(1,1)$ собственным вектором этого линейного оператора."
   ]
  },
  {
   "cell_type": "markdown",
   "metadata": {},
   "source": [
    "Решение:\n",
    "\n",
    "$$\\begin{pmatrix} 1 & 1\\\\ -1 & 3 \\end{pmatrix} \\begin{pmatrix} 1\\\\ 1 \\end{pmatrix}= \\lambda \\begin{pmatrix} 1\\\\ 1 \\end{pmatrix}$$$$\\begin{cases} 1 + 1 = \\lambda \\\\ -1 + 3 = \\lambda \\end{cases}$$$$\\begin{cases} \\lambda = 2 \\\\ \\lambda = 2 \\end{cases}\\Rightarrow \\lambda=2$$\n",
    "Ответ: вектор $x=(1,1)$ является собственным вектором линейного оператора, заданного матрицей $A$. Его собственное значение составляет $\\lambda=2.$"
   ]
  },
  {
   "cell_type": "markdown",
   "metadata": {},
   "source": [
    "**4.** Пусть линейный оператор задан матрицей\n",
    "\n",
    "$$A=\\begin{pmatrix} 0 & 3 & 0\\\\ 3 & 0 & 0\\\\ 0 & 0 & 3 \\end{pmatrix}.$$\n",
    "\n",
    "Установить, является ли вектор $x=(3, -3, -4)$ собственным вектором этого линейного оператора."
   ]
  },
  {
   "cell_type": "markdown",
   "metadata": {},
   "source": [
    "Решение:\n",
    "\n",
    "$$\\begin{pmatrix} 0 & 3 & 0\\\\ 3 & 0 & 0\\\\ 0 & 0 & 3 \\end{pmatrix} \\begin{pmatrix} 3 \\\\ -3 \\\\ -4 \\end{pmatrix} = \\lambda \\begin{pmatrix} 3 \\\\ -3 \\\\ -4 \\end{pmatrix}$$$$\\begin{cases} 0 \\cdot 3 + 3 \\cdot (-3) + 0\\cdot (-4) = 3 \\lambda \\\\ 3 \\cdot 3 + 0 \\cdot (-3) + 0 \\cdot (-4) = -3 \\lambda \\\\ 0 \\cdot (3) + 0 \\cdot (-3) + 3 \\cdot (-4) = -4 \\lambda \\end{cases}$$$$\\begin{cases} -9 = 3 \\lambda \\\\ 9 = -3 \\lambda \\\\ -12 = -4 \\lambda \\end{cases}$$$$\\begin{cases} \\lambda = -3 \\\\ \\lambda = -3 \\\\ \\lambda = 3 \\end{cases}$$\n",
    "\n",
    "Такая система не имеет смысла. Таким образом, вектор $x=(3, -3, -4)$ не является собственным вектором линейного оператора, заданного матрицей $A$."
   ]
  }
 ],
 "metadata": {
  "kernelspec": {
   "display_name": "Python 3",
   "language": "python",
   "name": "python3"
  },
  "language_info": {
   "codemirror_mode": {
    "name": "ipython",
    "version": 3
   },
   "file_extension": ".py",
   "mimetype": "text/x-python",
   "name": "python",
   "nbconvert_exporter": "python",
   "pygments_lexer": "ipython3",
   "version": "3.8.5"
  }
 },
 "nbformat": 4,
 "nbformat_minor": 4
}
