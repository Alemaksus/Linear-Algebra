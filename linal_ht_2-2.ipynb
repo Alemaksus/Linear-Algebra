{
 "cells": [
  {
   "cell_type": "markdown",
   "metadata": {},
   "source": [
    "__1.__ Вычислить определитель:\n",
    "\n",
    "   a)\n",
    "\n",
    "$$\\begin{vmatrix}\n",
    "sinx & -cosx\\\\ \n",
    "cosx & sinx\n",
    "\\end{vmatrix};$$\n",
    "\n",
    "   б)\n",
    "    \n",
    "$$\\begin{vmatrix}\n",
    "4 & 2 & 3\\\\ \n",
    "0 & 5 & 1\\\\ \n",
    "0 & 0 & 9\n",
    "\\end{vmatrix};$$\n",
    "    \n",
    "   в)\n",
    "\n",
    "$$\\begin{vmatrix}\n",
    "1 & 2 & 3\\\\ \n",
    "4 & 5 & 6\\\\ \n",
    "7 & 8 & 9\n",
    "\\end{vmatrix}.$$"
   ]
  },
  {
   "cell_type": "markdown",
   "metadata": {},
   "source": [
    "$а) $$\\begin{vmatrix} sinx & -cosx\\\\ cosx & sinx \\end{vmatrix} = sinx \\cdot sinx - (-cosx) \\cdot cosx = 1$"
   ]
  },
  {
   "cell_type": "markdown",
   "metadata": {},
   "source": [
    "б) $\\begin{vmatrix} 4 & 2 & 3\\\\ 0 & 5 & 1\\\\ 0 & 0 & 9 \\end{vmatrix} = 4 \\cdot 5 \\cdot 9 = 180$"
   ]
  },
  {
   "cell_type": "code",
   "execution_count": 1,
   "metadata": {},
   "outputs": [
    {
     "name": "stdout",
     "output_type": "stream",
     "text": [
      "|A| = 180\n"
     ]
    }
   ],
   "source": [
    "import numpy as np\n",
    "\n",
    "a = np.array([[4, 2, 3], [0, 5, 1], [0, 0,9]])\n",
    "print(f'|A| = {np.linalg.det(a):.0f}')"
   ]
  },
  {
   "cell_type": "markdown",
   "metadata": {},
   "source": [
    "в)$\\begin{vmatrix} 1 & 2 & 3\\\\ 4 & 5 & 6\\\\ 7 & 8 & 9 \\end{vmatrix} = \\begin{vmatrix} 1 & 2 & 3\\\\ 0 & -3 & -6\\\\ 0 & -6 & -12 \\end{vmatrix} = \\begin{vmatrix} 1 & 2 & 3\\\\ 0 & -3 & -6\\\\ 0 & 0 & 0 \\end{vmatrix} = 0$"
   ]
  },
  {
   "cell_type": "code",
   "execution_count": 2,
   "metadata": {},
   "outputs": [
    {
     "name": "stdout",
     "output_type": "stream",
     "text": [
      "|A| = -0\n"
     ]
    }
   ],
   "source": [
    "a = np.array([[1, 2, 3], [4, 5, 6], [7, 8, 9]])\n",
    "print(f'|A| = {np.linalg.det(a):.0f}')"
   ]
  },
  {
   "cell_type": "markdown",
   "metadata": {},
   "source": [
    "__2.__ Определитель матрицы $A$ равен $4$. Найти:\n",
    "\n",
    "   а) $det(A^{2})$;\n",
    "    \n",
    "   б) $det(A^{T})$;\n",
    "    \n",
    "   в) $det(2A)$."
   ]
  },
  {
   "cell_type": "markdown",
   "metadata": {},
   "source": [
    "а) $det(A^{2}) = det(A \\cdot A) = det(A) \\cdot det(A) = 4 \\cdot 4 = 16$;"
   ]
  },
  {
   "cell_type": "markdown",
   "metadata": {},
   "source": [
    "б) $det(A^{T})= det(A) = 4$;"
   ]
  },
  {
   "cell_type": "markdown",
   "metadata": {},
   "source": [
    "в) $det(2A) = 2^n \\cdot det(A) = 2^n \\cdot 4$, где $n$ - размер матрицы."
   ]
  },
  {
   "cell_type": "markdown",
   "metadata": {},
   "source": [
    "__3.__  Доказать, что матрица\n",
    "\n",
    "$$\\begin{pmatrix}\n",
    "-2 & 7 & -3\\\\ \n",
    "4 & -14 & 6\\\\ \n",
    "-3 & 7 & 13\n",
    "\\end{pmatrix}$$\n",
    "   \n",
    "вырожденная."
   ]
  },
  {
   "cell_type": "markdown",
   "metadata": {},
   "source": [
    "Решение: \n",
    "\n",
    "$$\\begin{vmatrix} -2 & 7 & -3\\\\ 4 & -14 & 6\\\\ -3 & 7 & 13 \\end{vmatrix} = -2 \\cdot \\begin{vmatrix} -14 & 6 \\\\ 7 & 13 \\end{vmatrix} - 7 \\cdot \\begin{vmatrix} 4 & 6 \\\\ -3 & 13 \\end{vmatrix} + (-3) \\cdot \\begin{vmatrix} 4 & -14 \\\\ -3 & 7 \\end{vmatrix} = -2 \\cdot (-14 \\cdot 13 - 6 \\cdot 7) - 7 (4 \\cdot 13 - 6 \\cdot (-3)) + (-3)\\cdot (4 \\cdot 7 - (-14)\\cdot (-3)) = 0$$\n",
    "\n",
    "Если определитель матрицы равен нулю, то матрица - вырожденная."
   ]
  },
  {
   "cell_type": "code",
   "execution_count": 4,
   "metadata": {},
   "outputs": [
    {
     "name": "stdout",
     "output_type": "stream",
     "text": [
      "|A| = 0\n"
     ]
    }
   ],
   "source": [
    "a = np.array([[-2, 7, -3], [4, -14, 6], [-3, 7, 13]])\n",
    "print(f'|A| = {np.linalg.det(a):.0f}')"
   ]
  },
  {
   "cell_type": "markdown",
   "metadata": {},
   "source": [
    "__4.__ Найти ранг матрицы:\n",
    "\n",
    "   а) $\\begin{pmatrix}\n",
    "1 & 2 & 3\\\\ \n",
    "1 & 1 & 1\\\\ \n",
    "2 & 3 & 4\n",
    "\\end{pmatrix};$\n",
    "\n",
    "   б) $\\begin{pmatrix}\n",
    "0 & 0 & 2 & 1\\\\ \n",
    "0 & 0 & 2 & 2\\\\ \n",
    "0 & 0 & 4 & 3\\\\ \n",
    "2 & 3 & 5 & 6\n",
    "\\end{pmatrix}.$"
   ]
  },
  {
   "cell_type": "markdown",
   "metadata": {},
   "source": [
    "a) $$\\begin{pmatrix} 1 & 2 & 3\\\\ 1 & 1 & 1\\\\ 2 & 3 & 4 \\end{pmatrix}$$ 3-я строка является суммой 1-й и 2-й строк, то есть её можно отбросить: $$\\begin{pmatrix} 1 & 2 & 3\\\\ 1 & 1 & 1 \\end{pmatrix}$$"
   ]
  },
  {
   "cell_type": "markdown",
   "metadata": {},
   "source": [
    "$$\\begin{pmatrix} 1 & 1 & 1 \\\\ 1 & 2 & 3 \\end{pmatrix}$$$$\\begin{pmatrix} 1 & 1 & 1 \\\\ 0 & 1 & 2 \\end{pmatrix}$$\n",
    "Ранг матрицы равен $2$."
   ]
  },
  {
   "cell_type": "code",
   "execution_count": 5,
   "metadata": {},
   "outputs": [
    {
     "name": "stdout",
     "output_type": "stream",
     "text": [
      "Ранг матрицы: 2\n"
     ]
    }
   ],
   "source": [
    "a = np.array([[1, 2, 3], [1, 1, 1], [2, 3, 4]])\n",
    "r = np.linalg.matrix_rank(a)\n",
    "\n",
    "print(f'Ранг матрицы: {r}')"
   ]
  },
  {
   "cell_type": "markdown",
   "metadata": {},
   "source": [
    "б) $$\\begin{pmatrix} 0 & 0 & 2 & 1\\\\ 0 & 0 & 2 & 2\\\\ 0 & 0 & 4 & 3\\\\ 2 & 3 & 5 & 6 \\end{pmatrix}$$$$\\begin{pmatrix} 2 & 3 & 5 & 6\\\\ 0 & 0 & 2 & 2\\\\ 0 & 0 & 4 & 3\\\\ 0 & 0 & 2 & 1\\\\ \\end{pmatrix}$$$$\\begin{pmatrix} 1 & 1 \\frac{1}{2} & 2 \\frac{1}{2} & 3 \\\\ 0 & 0 & 2 & 2\\\\ 0 & 0 & 4 & 3\\\\ 0 & 0 & 2 & 1\\\\ \\end{pmatrix}$$$$\\begin{pmatrix} 1 & 1 \\frac{1}{2} & 2 \\frac{1}{2} & 3\\\\ 0 & 0 & 1 & 1\\\\ 0 & 0 & 0 & -1\\\\ 0 & 0 & 2 & 1\\\\ \\end{pmatrix}$$$$\\begin{pmatrix} 1 & 1 \\frac{1}{2} & 2 \\frac{1}{2} & 3\\\\ 0 & 0 & 1 & 1\\\\ 0 & 0 & 0 & -1\\\\ 0 & 0 & 0 & -1\\\\ \\end{pmatrix}$$$$\\begin{pmatrix} 1 & 1 \\frac{1}{2} & 2 \\frac{1}{2} & 3\\\\ 0 & 0 & 1 & 1\\\\ 0 & 0 & 0 & 1\\\\ 0 & 0 & 0 & -1\\\\ \\end{pmatrix}$$$$\\begin{pmatrix} 1 & 1 \\frac{1}{2} & 2 \\frac{1}{2} & 3\\\\ 0 & 0 & 1 & 1\\\\ 0 & 0 & 0 & 1\\\\ 0 & 0 & 0 & 0\\\\ \\end{pmatrix}$$\n",
    "Ранг матрицы равен $3$."
   ]
  },
  {
   "cell_type": "code",
   "execution_count": 6,
   "metadata": {},
   "outputs": [
    {
     "name": "stdout",
     "output_type": "stream",
     "text": [
      "Ранг матрицы: 3\n"
     ]
    }
   ],
   "source": [
    "a = np.array([[0, 0, 2, 1], [0, 0, 2, 2], [0, 0, 4, 3],[2, 3, 5, 6]])\n",
    "r = np.linalg.matrix_rank(a)\n",
    "\n",
    "print(f'Ранг матрицы: {r}')"
   ]
  }
 ],
 "metadata": {
  "kernelspec": {
   "display_name": "Python 3",
   "language": "python",
   "name": "python3"
  },
  "language_info": {
   "codemirror_mode": {
    "name": "ipython",
    "version": 3
   },
   "file_extension": ".py",
   "mimetype": "text/x-python",
   "name": "python",
   "nbconvert_exporter": "python",
   "pygments_lexer": "ipython3",
   "version": "3.8.5"
  }
 },
 "nbformat": 4,
 "nbformat_minor": 4
}
