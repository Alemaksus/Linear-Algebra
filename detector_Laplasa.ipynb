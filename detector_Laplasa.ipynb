{
  "nbformat": 4,
  "nbformat_minor": 0,
  "metadata": {
    "colab": {
      "name": "det.ipynb",
      "provenance": []
    },
    "kernelspec": {
      "display_name": "Python 3 (ipykernel)",
      "language": "python",
      "name": "python3"
    },
    "language_info": {
      "codemirror_mode": {
        "name": "ipython",
        "version": 3
      },
      "file_extension": ".py",
      "mimetype": "text/x-python",
      "name": "python",
      "nbconvert_exporter": "python",
      "pygments_lexer": "ipython3",
      "version": "3.8.12"
    }
  },
  "cells": [
    {
      "cell_type": "code",
      "metadata": {
        "id": "CbjQ-DRTdlFP"
      },
      "source": [
        "import numpy as np\n",
        "import time\n",
        "\n",
        "#Минор\n",
        "def submatrix(M, c):\n",
        "    B = [[1] * len(M) for i in range(len(M))]\n",
        "\n",
        "    for l in range(len(M)):\n",
        "        for k in range(len(M)):\n",
        "            B[l][k] = M[l][k]\n",
        "\n",
        "    B.pop(0)\n",
        "\n",
        "    for i in range(len(B)):\n",
        "        B[i].pop(c)\n",
        "    return B\n",
        "\n",
        "#Определитель методом Лапласа\n",
        "def det_L(M):\n",
        "    X = 0\n",
        "    if len(M) != len(M[0]):\n",
        "        print('Матрица не квадратная')\n",
        "    else:\n",
        "        if len(M) <= 2:\n",
        "            return M[0][0] * M[1][1] - M[0][1] * M[1][0]\n",
        "        else:\n",
        "            for i in range(len(M)):\n",
        "                X += ((-1)**i) * M[0][i] * det_L(submatrix(M, i))\n",
        "    return X"
      ],
      "execution_count": null,
      "outputs": []
    },
    {
      "cell_type": "code",
      "metadata": {
        "id": "4Xghtc6xdlFV",
        "outputId": "9aa742a3-c66d-4bbe-f133-b66c38208509"
      },
      "source": [
        "a = np.random.rand(9, 9)\n",
        "print (a)"
      ],
      "execution_count": null,
      "outputs": [
        {
          "name": "stdout",
          "output_type": "stream",
          "text": [
            "[[0.16498292 0.090009   0.7473951  0.47381944 0.19589301 0.10311437\n",
            "  0.20872951 0.8764105  0.33007314]\n",
            " [0.68727129 0.41311283 0.02547651 0.59888426 0.31198902 0.93178439\n",
            "  0.40383805 0.75911853 0.81524283]\n",
            " [0.6122513  0.54213158 0.66181713 0.1488649  0.20609774 0.84319624\n",
            "  0.9668432  0.0544238  0.24925536]\n",
            " [0.97755351 0.34349583 0.19224665 0.37753886 0.24410479 0.52347284\n",
            "  0.68565981 0.86695057 0.87032362]\n",
            " [0.09701457 0.69234654 0.38977949 0.65770234 0.40375172 0.30616818\n",
            "  0.54222631 0.99756266 0.35917118]\n",
            " [0.53720458 0.90284412 0.95638677 0.55115181 0.67423606 0.3367775\n",
            "  0.48604518 0.80394685 0.28765731]\n",
            " [0.20365364 0.17988881 0.19579091 0.85683591 0.43052364 0.88681787\n",
            "  0.24524831 0.41651249 0.86170289]\n",
            " [0.14328581 0.36445622 0.22065518 0.35306287 0.34464575 0.80035941\n",
            "  0.18807488 0.80791382 0.16155079]\n",
            " [0.76366405 0.22417355 0.46135006 0.3893614  0.56111452 0.88272432\n",
            "  0.5497961  0.07841599 0.04868394]]\n"
          ]
        }
      ]
    },
    {
      "cell_type": "code",
      "metadata": {
        "id": "ExYLb-_-dlFX",
        "outputId": "d3102506-4737-4fd8-d09d-1c66ea2438e3"
      },
      "source": [
        "start_time = time.time()\n",
        "print (np.linalg.det(a))\n",
        "\n",
        "print(\"--- %s seconds ---\" % (time.time() - start_time))"
      ],
      "execution_count": null,
      "outputs": [
        {
          "name": "stdout",
          "output_type": "stream",
          "text": [
            "0.0240989139486466\n",
            "--- 0.0020036697387695312 seconds ---\n"
          ]
        }
      ]
    },
    {
      "cell_type": "code",
      "metadata": {
        "id": "YzAniLAQdlFY",
        "outputId": "de3fec2c-a960-4d5c-f7ca-d10cf969992f"
      },
      "source": [
        "start_time2 = time.time()\n",
        "print (det_L(a))\n",
        "print(\"--- %s seconds ---\" % (time.time() - start_time2))"
      ],
      "execution_count": null,
      "outputs": [
        {
          "name": "stdout",
          "output_type": "stream",
          "text": [
            "0.024098913948646605\n",
            "--- 7.788184404373169 seconds ---\n"
          ]
        }
      ]
    },
    {
      "cell_type": "code",
      "metadata": {
        "id": "uvejFkhvdlFb"
      },
      "source": [
        ""
      ],
      "execution_count": null,
      "outputs": []
    }
  ]
}