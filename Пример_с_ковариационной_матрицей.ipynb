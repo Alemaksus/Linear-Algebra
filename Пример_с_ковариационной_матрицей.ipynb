{
  "nbformat": 4,
  "nbformat_minor": 0,
  "metadata": {
    "colab": {
      "name": "Пример с ковариационной матрицей.ipynb",
      "provenance": [],
      "collapsed_sections": []
    },
    "kernelspec": {
      "display_name": "Python 3 (ipykernel)",
      "language": "python",
      "name": "python3"
    },
    "language_info": {
      "codemirror_mode": {
        "name": "ipython",
        "version": 3
      },
      "file_extension": ".py",
      "mimetype": "text/x-python",
      "name": "python",
      "nbconvert_exporter": "python",
      "pygments_lexer": "ipython3",
      "version": "3.8.12"
    }
  },
  "cells": [
    {
      "cell_type": "code",
      "metadata": {
        "colab": {
          "base_uri": "https://localhost:8080/"
        },
        "id": "TMU-vG5tL_53",
        "outputId": "3923dda4-508f-49ce-cb2d-a688a62407be"
      },
      "source": [
        "import matplotlib.pyplot as plt\n",
        "import numpy as np\n",
        "np.set_printoptions(precision=2, suppress=True)\n",
        "\n",
        "\n",
        "x = np.random.uniform(-30, 30, 30)\n",
        "q = np.random.uniform(-30, 30, 30)\n",
        "y = 0.1 * x + 0.1 * q \n",
        "\n",
        "\n",
        "A =np.array([x]+[y]).T\n",
        "\n",
        "print(f'Матрица A:\\n{A}')"
      ],
      "execution_count": null,
      "outputs": [
        {
          "name": "stdout",
          "output_type": "stream",
          "text": [
            "Матрица A:\n",
            "[[  6.69  -1.63]\n",
            " [ 19.65   0.14]\n",
            " [ 20.97   3.32]\n",
            " [ -1.76  -2.56]\n",
            " [ -9.34   0.49]\n",
            " [ 25.46   5.29]\n",
            " [ 17.58   3.71]\n",
            " [ 28.34   3.43]\n",
            " [ 14.08   3.44]\n",
            " [ -7.27   0.93]\n",
            " [-14.02   0.52]\n",
            " [-14.13  -0.18]\n",
            " [ -2.61  -1.63]\n",
            " [ 24.83   0.39]\n",
            " [-21.82  -2.75]\n",
            " [-12.33  -0.32]\n",
            " [-14.75   0.77]\n",
            " [-14.73  -2.26]\n",
            " [ 18.23   3.46]\n",
            " [ 26.24   2.66]\n",
            " [-24.74  -3.79]\n",
            " [  1.61  -1.57]\n",
            " [ 23.39   0.06]\n",
            " [ 15.34   2.25]\n",
            " [-18.38  -3.72]\n",
            " [-13.58   0.85]\n",
            " [ 29.8    0.74]\n",
            " [-26.18  -2.31]\n",
            " [-25.85  -2.82]\n",
            " [-23.12  -1.51]]\n"
          ]
        }
      ]
    },
    {
      "cell_type": "code",
      "metadata": {
        "colab": {
          "base_uri": "https://localhost:8080/"
        },
        "id": "0_t_s9bGL_6O",
        "outputId": "4bb068d6-916c-4978-f77a-610f3daa0c74"
      },
      "source": [
        "cov_A= A.T @ A\n",
        "w, v = np.linalg.eig(cov_A)\n",
        "\n",
        "print(f'Матрица A_:\\n{cov_A}')\n",
        "print(f'Собственные значения:\\n{w}')\n",
        "print(f'Собственные векторы:\\n{v}')\n",
        "\n",
        "U, s, V = np.linalg.svd(cov_A)\n",
        "D = np.eye(2) * s\n",
        "print(f'Собственные значения:\\n{s}')\n",
        "print(f'Матрица U:\\n{U}')\n",
        "print(f'Собственные вектор, найденный по первому собственному значению:\\n{U[0]}')\n",
        "print(f'Собственные вектор, найденный по второму собственному значению:\\n{U[1]}')\n",
        "print(f'Матрица V:\\n{V}')"
      ],
      "execution_count": null,
      "outputs": [
        {
          "name": "stdout",
          "output_type": "stream",
          "text": [
            "Матрица A_:\n",
            "[[10770.67  1002.48]\n",
            " [ 1002.48   174.86]]\n",
            "Собственные значения:\n",
            "[10864.68    80.85]\n",
            "Собственные векторы:\n",
            "[[ 1.   -0.09]\n",
            " [ 0.09  1.  ]]\n",
            "Собственные значения:\n",
            "[10864.68    80.85]\n",
            "Матрица U:\n",
            "[[-1.   -0.09]\n",
            " [-0.09  1.  ]]\n",
            "Собственные вектор, найденный по первому собственному значению:\n",
            "[-1.   -0.09]\n",
            "Собственные вектор, найденный по второму собственному значению:\n",
            "[-0.09  1.  ]\n",
            "Матрица V:\n",
            "[[-1.   -0.09]\n",
            " [-0.09  1.  ]]\n"
          ]
        }
      ]
    },
    {
      "cell_type": "code",
      "metadata": {
        "colab": {
          "base_uri": "https://localhost:8080/",
          "height": 497
        },
        "id": "4LxOvSiwL_6Q",
        "outputId": "20f2a495-0f58-4f9c-b17e-a71d1881025a"
      },
      "source": [
        "import matplotlib.pyplot as plt\n",
        "\n",
        "plt.figure(figsize=(8,8))\n",
        "plt.xlim([-33, 33])\n",
        "plt.ylim([-33, 33])\n",
        "plt.yticks(np.arange(-30, 31, 3))\n",
        "plt.xticks(np.arange(-30, 31, 3))\n",
        "plt.gca().set_aspect('equal', adjustable='box')\n",
        "\n",
        "\n",
        "plt.scatter(A.T[0], A.T[1], c='black')\n",
        "\n",
        "\n",
        "origin = [0], [0] # origin point\n",
        "plt.quiver([0],[0], U[:1][0][0], U[:1][0][1], color=['g'], scale=3)\n",
        "plt.quiver([0],[0], U[1:2][0][0], U[1:2][0][1], color=['r'], scale=3)\n",
        "plt.xlabel(\"x\")\n",
        "plt.ylabel(\"y\")\n",
        "\n",
        "plt.show()"
      ],
      "execution_count": null,
      "outputs": [
        {
          "data": {
            "image/png": "[encoded data removed]",
            "text/plain": [
              "<Figure size 576x576 with 1 Axes>"
            ]
          },
          "metadata": {
            "needs_background": "light"
          },
          "output_type": "display_data"
        }
      ]
    }
  ]
}