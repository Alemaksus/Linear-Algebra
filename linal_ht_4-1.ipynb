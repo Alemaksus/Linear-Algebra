{
 "cells": [
  {
   "cell_type": "markdown",
   "metadata": {},
   "source": [
    "__1.__ Решить систему уравнений методом Гаусса:\n",
    "\n",
    "$$\\begin{cases}\n",
    "x_{1}+x_{2}-x_{3}-2x_{4}=0, \\\\\n",
    "2x_{1}+x_{2}-x_{3}+x_{4}=-2, \\\\\n",
    "x_{1}+x_{2}-3x_{3}+x_{4}=4.\n",
    "\\end{cases}$$"
   ]
  },
  {
   "cell_type": "code",
   "execution_count": 1,
   "metadata": {},
   "outputs": [],
   "source": [
    "import numpy as np\n",
    "from scipy import linalg"
   ]
  },
  {
   "cell_type": "markdown",
   "metadata": {},
   "source": [
    "$$\\begin{pmatrix} \\left.\\begin{matrix} 1 & 1 & -1 & -2 \\\\ 2 & 1 & -1 & 1 \\\\ 1 & 1 & -3 & 1 \\end{matrix}\\right| \\begin{matrix} 0\\\\ -2\\\\ 4 \\end{matrix} \\end{pmatrix}$$$$\\begin{pmatrix} \\left.\\begin{matrix} 1 & 1 & -1 & -2 \\\\ 2 & 1 & -1 & 1 \\\\ 1 & 1 & -3 & 1 \\end{matrix}\\right| \\begin{matrix} 0\\\\ -2\\\\ 4 \\end{matrix} \\end{pmatrix}$$$$\\begin{pmatrix} \\left.\\begin{matrix} 2 & 1 & -1 & 1 \\\\ 1 & 1 & -1 & -2 \\\\ 1 & 1 & -3 & 1 \\end{matrix}\\right| \\begin{matrix} -2\\\\ 0\\\\ 4 \\end{matrix} \\end{pmatrix}$$$$\\begin{pmatrix} \\left.\\begin{matrix} 2 & 1 & -1 & 1 \\\\ 1 & 1 & -1 & -2 \\\\ 0 & 0 & -2 & 3 \\end{matrix}\\right| \\begin{matrix} -2\\\\ 0\\\\ 4 \\end{matrix} \\end{pmatrix}$$$$\\begin{pmatrix} \\left.\\begin{matrix} 2 & 1 & -1 & 1 \\\\ 0 & \\frac{1}{2} & -\\frac{1}{2} & -\\frac{5}{2} \\\\ 0 & 0 & -2 & 3 \\end{matrix}\\right| \\begin{matrix} -2\\\\ 1\\\\ 4 \\end{matrix} \\end{pmatrix}$$$$\\begin{pmatrix} \\left.\\begin{matrix} 1 & \\frac{1}{2} & -\\frac{1}{2} & \\frac{1}{2} \\\\ 0 & 1 & -1 & -5 \\\\ 0 & 0 & 1 & -\\frac{3}{2} \\end{matrix}\\right| \\begin{matrix} -1\\\\ 2\\\\ -2 \\end{matrix} \\end{pmatrix}$$$$\\begin{cases} x_1 + \\frac{1}{2} x_2 - \\frac{1}{2} x_3 + \\frac{1}{2} x_4 = -1 \\\\ x_2 - x_3 - 5 x_4 = 2 \\\\ x_3 - \\frac{3}{2} x_4 = -2 \\end{cases}$$$$\\begin{cases} x_1 = -1 - \\frac{1}{2} x_2 + \\frac{1}{2} x_3 - \\frac{1}{2} x_4\\\\ x_2 = 2 + x_3 + 5 x_4 \\\\ x_3 = -2 + \\frac{3}{2} x_4 \\end{cases}$$$$x_4 = c \\\\ x_3 = -2 +\\frac{3}{2} c \\\\ x_2 = \\frac{13}{2} c \\\\ x_1 = -2 - 3c$$"
   ]
  },
  {
   "cell_type": "markdown",
   "metadata": {},
   "source": [
    "__2.__ Проверить на совместность и выяснить, сколько решений будет иметь система линейных уравнений:\n",
    "\n",
    "   а) $\\begin{cases}\n",
    "3x_{1}-x_{2}+x_{3}=4, \\\\\n",
    "2x_{1}-5x_{2}-3x_{3}=-17, \\\\\n",
    "x_{1}+x_{2}-x_{3}=0;\n",
    "\\end{cases}$"
   ]
  },
  {
   "cell_type": "code",
   "execution_count": 2,
   "metadata": {},
   "outputs": [
    {
     "data": {
      "text/plain": [
       "3"
      ]
     },
     "execution_count": 2,
     "metadata": {},
     "output_type": "execute_result"
    }
   ],
   "source": [
    "x = np.array([[3, -1, 1], [2, -5, -3], [1, 1, -1]])\n",
    "b = np.array([[4, -17, 0]])\n",
    "\n",
    "A = np.append(x, b.T, axis=1)\n",
    "\n",
    "np.linalg.matrix_rank(x)"
   ]
  },
  {
   "cell_type": "code",
   "execution_count": 3,
   "metadata": {},
   "outputs": [
    {
     "data": {
      "text/plain": [
       "3"
      ]
     },
     "execution_count": 3,
     "metadata": {},
     "output_type": "execute_result"
    }
   ],
   "source": [
    "np.linalg.matrix_rank(A)"
   ]
  },
  {
   "cell_type": "markdown",
   "metadata": {},
   "source": [
    "Так как $rankA=rank \\tilde A=3$, то система определена и т. е. имеет единственное решение"
   ]
  },
  {
   "cell_type": "code",
   "execution_count": 4,
   "metadata": {},
   "outputs": [
    {
     "data": {
      "text/plain": [
       "array([1., 2., 3.])"
      ]
     },
     "execution_count": 4,
     "metadata": {},
     "output_type": "execute_result"
    }
   ],
   "source": [
    "np.linalg.solve(x, b[0])"
   ]
  },
  {
   "cell_type": "markdown",
   "metadata": {},
   "source": [
    "б) $\\begin{cases}\n",
    "2x_{1}-4x_{2}+6x_{3}=1, \\\\\n",
    "x_{1}-2x_{2}+3x_{3}=-2, \\\\\n",
    "3x_{1}-6x_{2}+9x_{3}=5;\n",
    "\\end{cases}$"
   ]
  },
  {
   "cell_type": "code",
   "execution_count": 6,
   "metadata": {},
   "outputs": [
    {
     "data": {
      "text/plain": [
       "1"
      ]
     },
     "execution_count": 6,
     "metadata": {},
     "output_type": "execute_result"
    }
   ],
   "source": [
    "x = np.array([[2, -4, 6], [1, -2, 3], [3, -6, 9]])\n",
    "b = np.array([[1, -2, 5]])\n",
    "\n",
    "A = np.append(x, b.T, axis=1)\n",
    "\n",
    "np.linalg.matrix_rank(x)"
   ]
  },
  {
   "cell_type": "code",
   "execution_count": 7,
   "metadata": {},
   "outputs": [
    {
     "data": {
      "text/plain": [
       "2"
      ]
     },
     "execution_count": 7,
     "metadata": {},
     "output_type": "execute_result"
    }
   ],
   "source": [
    "np.linalg.matrix_rank(A)"
   ]
  },
  {
   "cell_type": "markdown",
   "metadata": {},
   "source": [
    "Так как $rankA<rank \\tilde A$, то система несовместна."
   ]
  },
  {
   "cell_type": "markdown",
   "metadata": {},
   "source": [
    "в) $\\begin{cases}\n",
    "x_{1}+2x_{2}+5x_{3}=4, \\\\\n",
    "3x_{1}+x_{2}-8x_{3}=-2. \n",
    "\\end{cases}$"
   ]
  },
  {
   "cell_type": "code",
   "execution_count": 8,
   "metadata": {},
   "outputs": [
    {
     "data": {
      "text/plain": [
       "2"
      ]
     },
     "execution_count": 8,
     "metadata": {},
     "output_type": "execute_result"
    }
   ],
   "source": [
    "x = np.array([[1, 2, 5], [3, 1, -8]])\n",
    "b = np.array([[4, -2]])\n",
    "\n",
    "A = np.append(x, b.T, axis=1)\n",
    "\n",
    "np.linalg.matrix_rank(x)"
   ]
  },
  {
   "cell_type": "code",
   "execution_count": 9,
   "metadata": {},
   "outputs": [
    {
     "data": {
      "text/plain": [
       "2"
      ]
     },
     "execution_count": 9,
     "metadata": {},
     "output_type": "execute_result"
    }
   ],
   "source": [
    "np.linalg.matrix_rank(A)"
   ]
  },
  {
   "cell_type": "markdown",
   "metadata": {},
   "source": [
    "Так как $rankA=rank \\tilde A$, но ранг меньше количества неизвестных (2<3), то система имеет бесконечное множество решений"
   ]
  },
  {
   "cell_type": "markdown",
   "metadata": {},
   "source": [
    "__3.__ Проверить на совместность и выяснить, сколько решений будет иметь система линейных уравнений, заданная расширенной матрицей\n",
    "\n",
    "$$\\tilde{A}=\\begin{pmatrix}\n",
    "\\left.\\begin{matrix}\n",
    "1 & 3 & -2 & 4\\\\ \n",
    "0 & 5 & 0 & 1\\\\ \n",
    "0 & 0 & 3 & 0\\\\ \n",
    "0 & 0 & 0 & 2\n",
    "\\end{matrix}\\right|\n",
    "\\begin{matrix}\n",
    "3\\\\ \n",
    "2\\\\\n",
    "4\\\\\n",
    "1\n",
    "\\end{matrix}\n",
    "\\end{pmatrix}.$$\n"
   ]
  },
  {
   "cell_type": "code",
   "execution_count": 10,
   "metadata": {},
   "outputs": [
    {
     "data": {
      "text/plain": [
       "4"
      ]
     },
     "execution_count": 10,
     "metadata": {},
     "output_type": "execute_result"
    }
   ],
   "source": [
    "x = np.array([[1, 3, -2, 4], [0, 5, 0, 1], [0, 0, 3, 0], [0, 0, 0, 2]])\n",
    "b = np.array([[3, 2, 4, 1]])\n",
    "\n",
    "A = np.append(x, b.T, axis=1)\n",
    "\n",
    "np.linalg.matrix_rank(x)"
   ]
  },
  {
   "cell_type": "code",
   "execution_count": 11,
   "metadata": {},
   "outputs": [
    {
     "data": {
      "text/plain": [
       "4"
      ]
     },
     "execution_count": 11,
     "metadata": {},
     "output_type": "execute_result"
    }
   ],
   "source": [
    "np.linalg.matrix_rank(A)"
   ]
  },
  {
   "cell_type": "code",
   "execution_count": 12,
   "metadata": {},
   "outputs": [
    {
     "data": {
      "text/plain": [
       "array([2.76666667, 0.3       , 1.33333333, 0.5       ])"
      ]
     },
     "execution_count": 12,
     "metadata": {},
     "output_type": "execute_result"
    }
   ],
   "source": [
    "np.linalg.solve(x, b[0])"
   ]
  },
  {
   "cell_type": "markdown",
   "metadata": {},
   "source": [
    "__4.__ Дана система линейных уравнений, заданная расширенной матрицей\n",
    "\n",
    "$$\\tilde{A}=\\begin{pmatrix}\n",
    "\\left.\\begin{matrix}\n",
    "1 & 2 & 3\\\\ \n",
    "4 & 5 & 6\\\\ \n",
    "7 & 8 & 9\n",
    "\\end{matrix}\\right|\n",
    "\\begin{matrix}\n",
    "a\\\\ \n",
    "b\\\\\n",
    "c\n",
    "\\end{matrix}\n",
    "\\end{pmatrix}.$$\n",
    "\n",
    "Найти соотношение между параметрами $a$, $b$ и $c$, при которых система является несовместной."
   ]
  },
  {
   "cell_type": "markdown",
   "metadata": {},
   "source": [
    "$|A| = \\begin{vmatrix} 1 & 2 & 3\\\\ 4 & 5 & 6\\\\ 7 & 8 & 9 \\end{vmatrix} = 2$\n",
    "\n",
    "$\\begin{vmatrix} \\left.\\begin{matrix} 1 & 2 & 3\\\\ 4 & 5 & 6\\\\ 7 & 8 & 9 \\end{matrix}\\right| \\begin{matrix} a\\\\ b\\\\ c \\end{matrix} \\end{vmatrix} = a \\begin{vmatrix} 4 & 5 \\\\ 7 & 8 \\end{vmatrix} - b \\begin{vmatrix} 1 & 2 \\\\ 7 & 8 \\end{vmatrix} + c \\begin{vmatrix} 1 & 2 \\\\ 4 & 5 \\end{vmatrix} = -3a + 6b -3c = -a + 2b - c$\n",
    "\n",
    "$-a + 2b - c = 0$\n",
    "$c = 2b - a$\n",
    "\n",
    "При любых соотношений $a$, $b$ и $c$, кроме $c = 2b - a$ $rankA<rank \\tilde A$ система несовместна."
   ]
  }
 ],
 "metadata": {
  "kernelspec": {
   "display_name": "Python 3",
   "language": "python",
   "name": "python3"
  },
  "language_info": {
   "codemirror_mode": {
    "name": "ipython",
    "version": 3
   },
   "file_extension": ".py",
   "mimetype": "text/x-python",
   "name": "python",
   "nbconvert_exporter": "python",
   "pygments_lexer": "ipython3",
   "version": "3.8.5"
  }
 },
 "nbformat": 4,
 "nbformat_minor": 4
}
